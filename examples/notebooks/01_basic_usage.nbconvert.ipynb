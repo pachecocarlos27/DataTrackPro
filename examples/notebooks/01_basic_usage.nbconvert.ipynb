{
 "cells": [
  {
   "cell_type": "markdown",
   "metadata": {},
   "source": [
    "# Pipeline Monitor Basic Usage Tutorial\n",
    "\n",
    "This notebook demonstrates the basic features of the Pipeline Monitor library for tracking performance and monitoring data pipelines."
   ]
  },
  {
   "cell_type": "code",
   "execution_count": 1,
   "metadata": {
    "execution": {
     "iopub.execute_input": "2025-02-12T21:35:42.007369Z",
     "iopub.status.busy": "2025-02-12T21:35:42.006724Z",
     "iopub.status.idle": "2025-02-12T21:35:42.453503Z",
     "shell.execute_reply": "2025-02-12T21:35:42.452805Z"
    }
   },
   "outputs": [
    {
     "name": "stderr",
     "output_type": "stream",
     "text": [
      "Server initialized for threading.\n"
     ]
    }
   ],
   "source": [
    "from pipeline_monitor import monitor, MonitoringBlock, setup_logging\n",
    "\n",
    "# Setup logging with JSON format\n",
    "setup_logging(log_file='pipeline.log', json_format=True)"
   ]
  },
  {
   "cell_type": "markdown",
   "metadata": {},
   "source": [
    "## Function Monitoring\n",
    "\n",
    "Use the `@monitor` decorator to automatically track function performance."
   ]
  },
  {
   "cell_type": "code",
   "execution_count": 2,
   "metadata": {
    "execution": {
     "iopub.execute_input": "2025-02-12T21:35:42.485100Z",
     "iopub.status.busy": "2025-02-12T21:35:42.484872Z",
     "iopub.status.idle": "2025-02-12T21:35:42.489850Z",
     "shell.execute_reply": "2025-02-12T21:35:42.489320Z"
    }
   },
   "outputs": [
    {
     "name": "stdout",
     "output_type": "stream",
     "text": [
      "Processed data: <function track_performance.<locals>.decorator.<locals>.wrapper at 0x7f0b4c4c4ea0>\n"
     ]
    }
   ],
   "source": [
    "@monitor\n",
    "def process_data(items):\n",
    "    \"\"\"Example function that processes data.\"\"\"\n",
    "    result = []\n",
    "    for item in items:\n",
    "        # Simulate processing\n",
    "        result.append(item * 2)\n",
    "    return result\n",
    "\n",
    "# Test the monitored function\n",
    "data = list(range(10))\n",
    "result = process_data(data)\n",
    "print(f\"Processed data: {result}\")"
   ]
  },
  {
   "cell_type": "markdown",
   "metadata": {},
   "source": [
    "## Block Monitoring\n",
    "\n",
    "Use `MonitoringBlock` as a context manager to track performance of code blocks."
   ]
  },
  {
   "cell_type": "code",
   "execution_count": 3,
   "metadata": {
    "execution": {
     "iopub.execute_input": "2025-02-12T21:35:42.492169Z",
     "iopub.status.busy": "2025-02-12T21:35:42.491666Z",
     "iopub.status.idle": "2025-02-12T21:35:42.498412Z",
     "shell.execute_reply": "2025-02-12T21:35:42.497260Z"
    }
   },
   "outputs": [
    {
     "name": "stdout",
     "output_type": "stream",
     "text": [
      "{\"timestamp\": \"2025-02-12 21:35:42,494\", \"level\": \"INFO\", \"message\": \"Starting monitoring block: data_processing\", \"logger_name\": \"pipeline_monitor.context\"}\n"
     ]
    },
    {
     "name": "stdout",
     "output_type": "stream",
     "text": [
      "Processed batches: <function track_performance.<locals>.decorator.<locals>.wrapper at 0x7f0b4d6ff740>, <function track_performance.<locals>.decorator.<locals>.wrapper at 0x7f0b4c4c4e00>\n",
      "{\"timestamp\": \"2025-02-12 21:35:42,495\", \"level\": \"INFO\", \"message\": \"{\\\"block_name\\\": \\\"data_processing\\\", \\\"execution_time\\\": 0.000682830810546875, \\\"memory_usage_mb\\\": 0.0, \\\"success\\\": true, \\\"timestamp\\\": \\\"2025-02-12 21:35:42\\\"}\", \"logger_name\": \"pipeline_monitor.context\"}\n"
     ]
    }
   ],
   "source": [
    "with MonitoringBlock(\"data_processing\"):\n",
    "    # Process multiple batches\n",
    "    batch1 = process_data(range(5))\n",
    "    batch2 = process_data(range(5, 10))\n",
    "    \n",
    "    print(f\"Processed batches: {batch1}, {batch2}\")"
   ]
  }
 ],
 "metadata": {
  "kernelspec": {
   "display_name": "Python 3",
   "language": "python",
   "name": "python3"
  },
  "language_info": {
   "codemirror_mode": {
    "name": "ipython",
    "version": 3
   },
   "file_extension": ".py",
   "mimetype": "text/x-python",
   "name": "python",
   "nbconvert_exporter": "python",
   "pygments_lexer": "ipython3",
   "version": "3.11.10"
  }
 },
 "nbformat": 4,
 "nbformat_minor": 4
}
