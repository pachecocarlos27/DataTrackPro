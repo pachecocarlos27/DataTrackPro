{
 "cells": [
  {
   "cell_type": "markdown",
   "metadata": {},
   "source": [
    "# Pipeline Monitor Dashboard Tutorial\n",
    "\n",
    "This notebook demonstrates how to use the real-time monitoring dashboard to track pipeline performance."
   ]
  },
  {
   "cell_type": "code",
   "execution_count": null,
   "metadata": {},
   "outputs": [],
   "source": [
    "from pipeline_monitor import monitor, MonitoringBlock, setup_logging\n",
    "from pipeline_monitor.dashboard import start_dashboard\n",
    "import threading\n",
    "import time\n",
    "\n",
    "# Setup logging\n",
    "setup_logging(log_file='pipeline.log', json_format=True)"
   ]
  },
  {
   "cell_type": "markdown",
   "metadata": {},
   "source": [
    "## Starting the Dashboard\n",
    "\n",
    "Start the monitoring dashboard in a separate thread."
   ]
  },
  {
   "cell_type": "code",
   "execution_count": null,
   "metadata": {},
   "outputs": [],
   "source": [
    "# Start dashboard in background thread\n",
    "dashboard_thread = threading.Thread(\n",
    "    target=start_dashboard,\n",
    "    kwargs={'port': 5000},\n",
    "    daemon=True\n",
    ")\n",
    "dashboard_thread.start()\n",
    "\n",
    "print(\"Dashboard started at http://localhost:5000\")\n",
    "time.sleep(2)  # Wait for dashboard to start"
   ]
  },
  {
   "cell_type": "markdown",
   "metadata": {},
   "source": [
    "## Monitoring Pipeline Performance\n",
    "\n",
    "Create a sample pipeline with performance monitoring."
   ]
  },
  {
   "cell_type": "code",
   "execution_count": null,
   "metadata": {},
   "outputs": [],
   "source": [
    "@monitor\n",
    "def process_batch(size):\n",
    "    \"\"\"Process a batch of data with simulated work.\"\"\"\n",
    "    time.sleep(0.1)  # Simulate processing\n",
    "    return [i * i for i in range(size)]\n",
    "\n",
    "# Process multiple batches with monitoring\n",
    "for i in range(5):\n",
    "    with MonitoringBlock(f\"batch_{i}\"):\n",
    "        result = process_batch(10)\n",
    "        print(f\"Processed batch {i}: {len(result)} items\")\n",
    "        time.sleep(1)  # Wait to see updates in dashboard"
   ]
  },
  {
   "cell_type": "markdown",
   "metadata": {},
   "source": [
    "## Viewing Metrics\n",
    "\n",
    "Open the dashboard at http://localhost:5000 to see:\n",
    "1. Active pipeline counts\n",
    "2. Memory usage metrics\n",
    "3. Performance alerts\n",
    "\n",
    "The metrics update in real-time as the pipeline processes data."
   ]
  }
 ],
 "metadata": {
  "kernelspec": {
   "display_name": "Python 3",
   "language": "python",
   "name": "python3"
  },
  "language_info": {
   "codemirror_mode": {
    "name": "ipython",
    "version": 3
   },
   "file_extension": ".py",
   "mimetype": "text/x-python",
   "name": "python",
   "nbconvert_exporter": "python",
   "pygments_lexer": "ipython3",
   "version": "3.11"
  }
 },
 "nbformat": 4,
 "nbformat_minor": 4
}