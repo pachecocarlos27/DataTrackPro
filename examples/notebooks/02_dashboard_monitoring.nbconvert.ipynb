{
 "cells": [
  {
   "cell_type": "markdown",
   "metadata": {},
   "source": [
    "# Pipeline Monitor Dashboard Tutorial\n",
    "\n",
    "This notebook demonstrates how to use the real-time monitoring dashboard to track pipeline performance."
   ]
  },
  {
   "cell_type": "code",
   "execution_count": 1,
   "metadata": {
    "execution": {
     "iopub.execute_input": "2025-02-12T21:50:12.332723Z",
     "iopub.status.busy": "2025-02-12T21:50:12.332271Z",
     "iopub.status.idle": "2025-02-12T21:50:12.559328Z",
     "shell.execute_reply": "2025-02-12T21:50:12.558823Z"
    }
   },
   "outputs": [
    {
     "name": "stderr",
     "output_type": "stream",
     "text": [
      "Server initialized for threading.\n"
     ]
    }
   ],
   "source": [
    "from pipeline_monitor import monitor, MonitoringBlock, setup_logging\n",
    "from pipeline_monitor.dashboard import start_dashboard\n",
    "import threading\n",
    "import time\n",
    "\n",
    "# Setup logging\n",
    "setup_logging(log_file='pipeline.log', json_format=True)"
   ]
  },
  {
   "cell_type": "markdown",
   "metadata": {},
   "source": [
    "## Starting the Dashboard\n",
    "\n",
    "Start the monitoring dashboard in a separate thread."
   ]
  },
  {
   "cell_type": "code",
   "execution_count": 2,
   "metadata": {
    "execution": {
     "iopub.execute_input": "2025-02-12T21:50:12.590079Z",
     "iopub.status.busy": "2025-02-12T21:50:12.589398Z",
     "iopub.status.idle": "2025-02-12T21:50:14.596941Z",
     "shell.execute_reply": "2025-02-12T21:50:14.596205Z"
    }
   },
   "outputs": [
    {
     "name": "stdout",
     "output_type": "stream",
     "text": [
      "{\"timestamp\": \"2025-02-12 21:50:12,591\", \"level\": \"INFO\", \"message\": \"Starting dashboard on 0.0.0.0:5000\", \"logger_name\": \"pipeline_monitor.dashboard.app\"}\n",
      "Dashboard started at http://localhost:5000\n"
     ]
    },
    {
     "name": "stdout",
     "output_type": "stream",
     "text": [
      "{\"timestamp\": \"2025-02-12 21:50:12,595\", \"level\": \"ERROR\", \"message\": \"Failed to start dashboard: The Werkzeug web server is not designed to run in production. Pass allow_unsafe_werkzeug=True to the run() method to disable this error.\", \"logger_name\": \"pipeline_monitor.dashboard.app\"}\n"
     ]
    },
    {
     "name": "stderr",
     "output_type": "stream",
     "text": [
      "Exception in thread Thread-5 (start_dashboard):\n",
      "Traceback (most recent call last):\n",
      "  File \"/nix/store/clx0mcir7qw8zk36zbr4jra789g3knf6-python3-3.11.10/lib/python3.11/threading.py\", line 1045, in _bootstrap_inner\n",
      "    self.run()\n",
      "  File \"/home/runner/workspace/.pythonlibs/lib/python3.11/site-packages/ipykernel/ipkernel.py\", line 766, in run_closure\n",
      "    _threading_Thread_run(self)\n",
      "  File \"/nix/store/clx0mcir7qw8zk36zbr4jra789g3knf6-python3-3.11.10/lib/python3.11/threading.py\", line 982, in run\n",
      "    self._target(*self._args, **self._kwargs)\n",
      "  File \"/home/runner/workspace/pipeline_monitor/dashboard/app.py\", line 71, in start_dashboard\n",
      "    socketio.run(\n",
      "  File \"/home/runner/workspace/.pythonlibs/lib/python3.11/site-packages/flask_socketio/__init__.py\", line 650, in run\n",
      "    raise RuntimeError('The Werkzeug web server is not '\n",
      "RuntimeError: The Werkzeug web server is not designed to run in production. Pass allow_unsafe_werkzeug=True to the run() method to disable this error.\n"
     ]
    }
   ],
   "source": [
    "# Start dashboard in background thread\n",
    "dashboard_thread = threading.Thread(\n",
    "    target=start_dashboard,\n",
    "    kwargs={'port': 5000},\n",
    "    daemon=True\n",
    ")\n",
    "dashboard_thread.start()\n",
    "\n",
    "print(\"Dashboard started at http://localhost:5000\")\n",
    "time.sleep(2)  # Wait for dashboard to start"
   ]
  },
  {
   "cell_type": "markdown",
   "metadata": {},
   "source": [
    "## Monitoring Pipeline Performance\n",
    "\n",
    "Create a sample pipeline with performance monitoring."
   ]
  },
  {
   "cell_type": "code",
   "execution_count": 3,
   "metadata": {
    "execution": {
     "iopub.execute_input": "2025-02-12T21:50:14.599078Z",
     "iopub.status.busy": "2025-02-12T21:50:14.598776Z",
     "iopub.status.idle": "2025-02-12T21:50:20.153880Z",
     "shell.execute_reply": "2025-02-12T21:50:20.153011Z"
    }
   },
   "outputs": [
    {
     "name": "stdout",
     "output_type": "stream",
     "text": [
      "{\"timestamp\": \"2025-02-12 21:50:14,601\", \"level\": \"INFO\", \"message\": \"Starting monitoring block: batch_0\", \"logger_name\": \"pipeline_monitor.context\"}\n"
     ]
    },
    {
     "name": "stdout",
     "output_type": "stream",
     "text": [
      "{\"timestamp\": \"2025-02-12 21:50:14,703\", \"level\": \"INFO\", \"message\": \"{\\\"function_name\\\": \\\"process_batch\\\", \\\"execution_time\\\": 0.10019397735595703, \\\"memory_usage_mb\\\": 0.0, \\\"success\\\": true, \\\"timestamp\\\": \\\"2025-02-12 21:50:14\\\"}\", \"logger_name\": \"pipeline_monitor.decorators\"}\n"
     ]
    },
    {
     "name": "stderr",
     "output_type": "stream",
     "text": [
      "emitting event \"metric_update\" to all [/]\n"
     ]
    },
    {
     "name": "stdout",
     "output_type": "stream",
     "text": [
      "{\"timestamp\": \"2025-02-12 21:50:14,704\", \"level\": \"INFO\", \"message\": \"emitting event \\\"metric_update\\\" to all [/]\", \"logger_name\": \"socketio.server\"}\n"
     ]
    },
    {
     "name": "stderr",
     "output_type": "stream",
     "text": [
      "emitting event \"metric_update\" to all [/]\n"
     ]
    },
    {
     "name": "stdout",
     "output_type": "stream",
     "text": [
      "{\"timestamp\": \"2025-02-12 21:50:14,705\", \"level\": \"INFO\", \"message\": \"emitting event \\\"metric_update\\\" to all [/]\", \"logger_name\": \"socketio.server\"}\n"
     ]
    },
    {
     "name": "stdout",
     "output_type": "stream",
     "text": [
      "Processed batch 0: 10 items\n"
     ]
    },
    {
     "name": "stdout",
     "output_type": "stream",
     "text": [
      "{\"timestamp\": \"2025-02-12 21:50:15,707\", \"level\": \"INFO\", \"message\": \"{\\\"block_name\\\": \\\"batch_0\\\", \\\"execution_time\\\": 1.1053102016448975, \\\"memory_usage_mb\\\": 0.125, \\\"success\\\": true, \\\"timestamp\\\": \\\"2025-02-12 21:50:15\\\"}\", \"logger_name\": \"pipeline_monitor.context\"}\n"
     ]
    },
    {
     "name": "stderr",
     "output_type": "stream",
     "text": [
      "emitting event \"metric_update\" to all [/]\n"
     ]
    },
    {
     "name": "stdout",
     "output_type": "stream",
     "text": [
      "{\"timestamp\": \"2025-02-12 21:50:15,708\", \"level\": \"INFO\", \"message\": \"emitting event \\\"metric_update\\\" to all [/]\", \"logger_name\": \"socketio.server\"}\n"
     ]
    },
    {
     "name": "stderr",
     "output_type": "stream",
     "text": [
      "emitting event \"metric_update\" to all [/]\n"
     ]
    },
    {
     "name": "stdout",
     "output_type": "stream",
     "text": [
      "{\"timestamp\": \"2025-02-12 21:50:15,709\", \"level\": \"INFO\", \"message\": \"emitting event \\\"metric_update\\\" to all [/]\", \"logger_name\": \"socketio.server\"}\n"
     ]
    },
    {
     "name": "stdout",
     "output_type": "stream",
     "text": [
      "{\"timestamp\": \"2025-02-12 21:50:15,711\", \"level\": \"INFO\", \"message\": \"Starting monitoring block: batch_1\", \"logger_name\": \"pipeline_monitor.context\"}\n"
     ]
    },
    {
     "name": "stdout",
     "output_type": "stream",
     "text": [
      "{\"timestamp\": \"2025-02-12 21:50:15,812\", \"level\": \"INFO\", \"message\": \"{\\\"function_name\\\": \\\"process_batch\\\", \\\"execution_time\\\": 0.10016798973083496, \\\"memory_usage_mb\\\": 0.0, \\\"success\\\": true, \\\"timestamp\\\": \\\"2025-02-12 21:50:15\\\"}\", \"logger_name\": \"pipeline_monitor.decorators\"}\n"
     ]
    },
    {
     "name": "stderr",
     "output_type": "stream",
     "text": [
      "emitting event \"metric_update\" to all [/]\n"
     ]
    },
    {
     "name": "stdout",
     "output_type": "stream",
     "text": [
      "{\"timestamp\": \"2025-02-12 21:50:15,814\", \"level\": \"INFO\", \"message\": \"emitting event \\\"metric_update\\\" to all [/]\", \"logger_name\": \"socketio.server\"}\n"
     ]
    },
    {
     "name": "stderr",
     "output_type": "stream",
     "text": [
      "emitting event \"metric_update\" to all [/]\n"
     ]
    },
    {
     "name": "stdout",
     "output_type": "stream",
     "text": [
      "{\"timestamp\": \"2025-02-12 21:50:15,815\", \"level\": \"INFO\", \"message\": \"emitting event \\\"metric_update\\\" to all [/]\", \"logger_name\": \"socketio.server\"}\n"
     ]
    },
    {
     "name": "stdout",
     "output_type": "stream",
     "text": [
      "Processed batch 1: 10 items\n"
     ]
    },
    {
     "name": "stdout",
     "output_type": "stream",
     "text": [
      "{\"timestamp\": \"2025-02-12 21:50:16,816\", \"level\": \"INFO\", \"message\": \"{\\\"block_name\\\": \\\"batch_1\\\", \\\"execution_time\\\": 1.1052234172821045, \\\"memory_usage_mb\\\": 0.0, \\\"success\\\": true, \\\"timestamp\\\": \\\"2025-02-12 21:50:16\\\"}\", \"logger_name\": \"pipeline_monitor.context\"}\n"
     ]
    },
    {
     "name": "stderr",
     "output_type": "stream",
     "text": [
      "emitting event \"metric_update\" to all [/]\n"
     ]
    },
    {
     "name": "stdout",
     "output_type": "stream",
     "text": [
      "{\"timestamp\": \"2025-02-12 21:50:16,817\", \"level\": \"INFO\", \"message\": \"emitting event \\\"metric_update\\\" to all [/]\", \"logger_name\": \"socketio.server\"}\n"
     ]
    },
    {
     "name": "stderr",
     "output_type": "stream",
     "text": [
      "emitting event \"metric_update\" to all [/]\n"
     ]
    },
    {
     "name": "stdout",
     "output_type": "stream",
     "text": [
      "{\"timestamp\": \"2025-02-12 21:50:16,818\", \"level\": \"INFO\", \"message\": \"emitting event \\\"metric_update\\\" to all [/]\", \"logger_name\": \"socketio.server\"}\n"
     ]
    },
    {
     "name": "stdout",
     "output_type": "stream",
     "text": [
      "{\"timestamp\": \"2025-02-12 21:50:16,820\", \"level\": \"INFO\", \"message\": \"Starting monitoring block: batch_2\", \"logger_name\": \"pipeline_monitor.context\"}\n"
     ]
    },
    {
     "name": "stdout",
     "output_type": "stream",
     "text": [
      "{\"timestamp\": \"2025-02-12 21:50:16,921\", \"level\": \"INFO\", \"message\": \"{\\\"function_name\\\": \\\"process_batch\\\", \\\"execution_time\\\": 0.1002192497253418, \\\"memory_usage_mb\\\": 0.0, \\\"success\\\": true, \\\"timestamp\\\": \\\"2025-02-12 21:50:16\\\"}\", \"logger_name\": \"pipeline_monitor.decorators\"}\n"
     ]
    },
    {
     "name": "stderr",
     "output_type": "stream",
     "text": [
      "emitting event \"metric_update\" to all [/]\n"
     ]
    },
    {
     "name": "stdout",
     "output_type": "stream",
     "text": [
      "{\"timestamp\": \"2025-02-12 21:50:16,923\", \"level\": \"INFO\", \"message\": \"emitting event \\\"metric_update\\\" to all [/]\", \"logger_name\": \"socketio.server\"}\n"
     ]
    },
    {
     "name": "stderr",
     "output_type": "stream",
     "text": [
      "emitting event \"metric_update\" to all [/]\n"
     ]
    },
    {
     "name": "stdout",
     "output_type": "stream",
     "text": [
      "{\"timestamp\": \"2025-02-12 21:50:16,926\", \"level\": \"INFO\", \"message\": \"emitting event \\\"metric_update\\\" to all [/]\", \"logger_name\": \"socketio.server\"}\n"
     ]
    },
    {
     "name": "stdout",
     "output_type": "stream",
     "text": [
      "Processed batch 2: 10 items\n"
     ]
    },
    {
     "name": "stdout",
     "output_type": "stream",
     "text": [
      "{\"timestamp\": \"2025-02-12 21:50:17,928\", \"level\": \"INFO\", \"message\": \"{\\\"block_name\\\": \\\"batch_2\\\", \\\"execution_time\\\": 1.1077470779418945, \\\"memory_usage_mb\\\": 0.125, \\\"success\\\": true, \\\"timestamp\\\": \\\"2025-02-12 21:50:17\\\"}\", \"logger_name\": \"pipeline_monitor.context\"}\n"
     ]
    },
    {
     "name": "stderr",
     "output_type": "stream",
     "text": [
      "emitting event \"metric_update\" to all [/]\n"
     ]
    },
    {
     "name": "stdout",
     "output_type": "stream",
     "text": [
      "{\"timestamp\": \"2025-02-12 21:50:17,929\", \"level\": \"INFO\", \"message\": \"emitting event \\\"metric_update\\\" to all [/]\", \"logger_name\": \"socketio.server\"}\n"
     ]
    },
    {
     "name": "stderr",
     "output_type": "stream",
     "text": [
      "emitting event \"metric_update\" to all [/]\n"
     ]
    },
    {
     "name": "stdout",
     "output_type": "stream",
     "text": [
      "{\"timestamp\": \"2025-02-12 21:50:17,930\", \"level\": \"INFO\", \"message\": \"emitting event \\\"metric_update\\\" to all [/]\", \"logger_name\": \"socketio.server\"}\n"
     ]
    },
    {
     "name": "stdout",
     "output_type": "stream",
     "text": [
      "{\"timestamp\": \"2025-02-12 21:50:17,931\", \"level\": \"INFO\", \"message\": \"Starting monitoring block: batch_3\", \"logger_name\": \"pipeline_monitor.context\"}\n"
     ]
    },
    {
     "name": "stdout",
     "output_type": "stream",
     "text": [
      "{\"timestamp\": \"2025-02-12 21:50:18,032\", \"level\": \"INFO\", \"message\": \"{\\\"function_name\\\": \\\"process_batch\\\", \\\"execution_time\\\": 0.10019397735595703, \\\"memory_usage_mb\\\": 0.0, \\\"success\\\": true, \\\"timestamp\\\": \\\"2025-02-12 21:50:18\\\"}\", \"logger_name\": \"pipeline_monitor.decorators\"}\n"
     ]
    },
    {
     "name": "stderr",
     "output_type": "stream",
     "text": [
      "emitting event \"metric_update\" to all [/]\n"
     ]
    },
    {
     "name": "stdout",
     "output_type": "stream",
     "text": [
      "{\"timestamp\": \"2025-02-12 21:50:18,033\", \"level\": \"INFO\", \"message\": \"emitting event \\\"metric_update\\\" to all [/]\", \"logger_name\": \"socketio.server\"}\n"
     ]
    },
    {
     "name": "stderr",
     "output_type": "stream",
     "text": [
      "emitting event \"metric_update\" to all [/]\n"
     ]
    },
    {
     "name": "stdout",
     "output_type": "stream",
     "text": [
      "{\"timestamp\": \"2025-02-12 21:50:18,035\", \"level\": \"INFO\", \"message\": \"emitting event \\\"metric_update\\\" to all [/]\", \"logger_name\": \"socketio.server\"}\n"
     ]
    },
    {
     "name": "stdout",
     "output_type": "stream",
     "text": [
      "Processed batch 3: 10 items\n"
     ]
    },
    {
     "name": "stdout",
     "output_type": "stream",
     "text": [
      "{\"timestamp\": \"2025-02-12 21:50:19,036\", \"level\": \"INFO\", \"message\": \"{\\\"block_name\\\": \\\"batch_3\\\", \\\"execution_time\\\": 1.105074405670166, \\\"memory_usage_mb\\\": 0.0, \\\"success\\\": true, \\\"timestamp\\\": \\\"2025-02-12 21:50:19\\\"}\", \"logger_name\": \"pipeline_monitor.context\"}\n"
     ]
    },
    {
     "name": "stderr",
     "output_type": "stream",
     "text": [
      "emitting event \"metric_update\" to all [/]\n"
     ]
    },
    {
     "name": "stdout",
     "output_type": "stream",
     "text": [
      "{\"timestamp\": \"2025-02-12 21:50:19,038\", \"level\": \"INFO\", \"message\": \"emitting event \\\"metric_update\\\" to all [/]\", \"logger_name\": \"socketio.server\"}\n"
     ]
    },
    {
     "name": "stderr",
     "output_type": "stream",
     "text": [
      "emitting event \"metric_update\" to all [/]\n"
     ]
    },
    {
     "name": "stdout",
     "output_type": "stream",
     "text": [
      "{\"timestamp\": \"2025-02-12 21:50:19,041\", \"level\": \"INFO\", \"message\": \"emitting event \\\"metric_update\\\" to all [/]\", \"logger_name\": \"socketio.server\"}\n"
     ]
    },
    {
     "name": "stdout",
     "output_type": "stream",
     "text": [
      "{\"timestamp\": \"2025-02-12 21:50:19,042\", \"level\": \"INFO\", \"message\": \"Starting monitoring block: batch_4\", \"logger_name\": \"pipeline_monitor.context\"}\n"
     ]
    },
    {
     "name": "stdout",
     "output_type": "stream",
     "text": [
      "{\"timestamp\": \"2025-02-12 21:50:19,143\", \"level\": \"INFO\", \"message\": \"{\\\"function_name\\\": \\\"process_batch\\\", \\\"execution_time\\\": 0.10024809837341309, \\\"memory_usage_mb\\\": 0.0, \\\"success\\\": true, \\\"timestamp\\\": \\\"2025-02-12 21:50:19\\\"}\", \"logger_name\": \"pipeline_monitor.decorators\"}\n"
     ]
    },
    {
     "name": "stderr",
     "output_type": "stream",
     "text": [
      "emitting event \"metric_update\" to all [/]\n"
     ]
    },
    {
     "name": "stdout",
     "output_type": "stream",
     "text": [
      "{\"timestamp\": \"2025-02-12 21:50:19,145\", \"level\": \"INFO\", \"message\": \"emitting event \\\"metric_update\\\" to all [/]\", \"logger_name\": \"socketio.server\"}\n"
     ]
    },
    {
     "name": "stderr",
     "output_type": "stream",
     "text": [
      "emitting event \"metric_update\" to all [/]\n"
     ]
    },
    {
     "name": "stdout",
     "output_type": "stream",
     "text": [
      "{\"timestamp\": \"2025-02-12 21:50:19,146\", \"level\": \"INFO\", \"message\": \"emitting event \\\"metric_update\\\" to all [/]\", \"logger_name\": \"socketio.server\"}\n"
     ]
    },
    {
     "name": "stdout",
     "output_type": "stream",
     "text": [
      "Processed batch 4: 10 items\n"
     ]
    },
    {
     "name": "stdout",
     "output_type": "stream",
     "text": [
      "{\"timestamp\": \"2025-02-12 21:50:20,148\", \"level\": \"INFO\", \"message\": \"{\\\"block_name\\\": \\\"batch_4\\\", \\\"execution_time\\\": 1.1057491302490234, \\\"memory_usage_mb\\\": 0.0, \\\"success\\\": true, \\\"timestamp\\\": \\\"2025-02-12 21:50:20\\\"}\", \"logger_name\": \"pipeline_monitor.context\"}\n"
     ]
    },
    {
     "name": "stderr",
     "output_type": "stream",
     "text": [
      "emitting event \"metric_update\" to all [/]\n"
     ]
    },
    {
     "name": "stdout",
     "output_type": "stream",
     "text": [
      "{\"timestamp\": \"2025-02-12 21:50:20,149\", \"level\": \"INFO\", \"message\": \"emitting event \\\"metric_update\\\" to all [/]\", \"logger_name\": \"socketio.server\"}\n"
     ]
    },
    {
     "name": "stderr",
     "output_type": "stream",
     "text": [
      "emitting event \"metric_update\" to all [/]\n"
     ]
    },
    {
     "name": "stdout",
     "output_type": "stream",
     "text": [
      "{\"timestamp\": \"2025-02-12 21:50:20,150\", \"level\": \"INFO\", \"message\": \"emitting event \\\"metric_update\\\" to all [/]\", \"logger_name\": \"socketio.server\"}\n"
     ]
    }
   ],
   "source": [
    "@monitor(alert_threshold=1.0)\n",
    "def process_batch(size):\n",
    "    \"\"\"Process a batch of data with simulated work.\"\"\"\n",
    "    time.sleep(0.1)  # Simulate processing\n",
    "    return [i * i for i in range(size)]\n",
    "\n",
    "# Process multiple batches with monitoring\n",
    "for i in range(5):\n",
    "    with MonitoringBlock(f\"batch_{i}\"):\n",
    "        data = process_batch(10)  # Explicitly call the function\n",
    "        print(f\"Processed batch {i}: {len(data)} items\")\n",
    "        time.sleep(1)  # Wait to see updates in dashboard"
   ]
  },
  {
   "cell_type": "markdown",
   "metadata": {},
   "source": [
    "## Viewing Metrics\n",
    "\n",
    "Open the dashboard at http://localhost:5000 to see:\n",
    "1. Active pipeline counts\n",
    "2. Memory usage metrics\n",
    "3. Performance alerts\n",
    "\n",
    "The metrics update in real-time as the pipeline processes data."
   ]
  }
 ],
 "metadata": {
  "kernelspec": {
   "display_name": "Python 3",
   "language": "python",
   "name": "python3"
  },
  "language_info": {
   "codemirror_mode": {
    "name": "ipython",
    "version": 3
   },
   "file_extension": ".py",
   "mimetype": "text/x-python",
   "name": "python",
   "nbconvert_exporter": "python",
   "pygments_lexer": "ipython3",
   "version": "3.11.10"
  }
 },
 "nbformat": 4,
 "nbformat_minor": 4
}
