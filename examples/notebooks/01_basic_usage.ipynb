{
 "cells": [
  {
   "cell_type": "markdown",
   "metadata": {},
   "source": [
    "# Pipeline Monitor Basic Usage Tutorial\n",
    "\n",
    "This notebook demonstrates the basic features of the Pipeline Monitor library for tracking performance and monitoring data pipelines."
   ]
  },
  {
   "cell_type": "code",
   "execution_count": null,
   "metadata": {},
   "outputs": [],
   "source": [
    "from pipeline_monitor import monitor, MonitoringBlock, setup_logging\n",
    "\n",
    "# Setup logging with JSON format\n",
    "setup_logging(log_file='pipeline.log', json_format=True)"
   ]
  },
  {
   "cell_type": "markdown",
   "metadata": {},
   "source": [
    "## Function Monitoring\n",
    "\n",
    "Use the `@monitor` decorator to automatically track function performance."
   ]
  },
  {
   "cell_type": "code",
   "execution_count": null,
   "metadata": {},
   "outputs": [],
   "source": [
    "@monitor\n",
    "def process_data(items):\n",
    "    \"\"\"Example function that processes data.\"\"\"\n",
    "    result = []\n",
    "    for item in items:\n",
    "        # Simulate processing\n",
    "        result.append(item * 2)\n",
    "    return result\n",
    "\n",
    "# Test the monitored function\n",
    "data = list(range(10))\n",
    "result = process_data(data)\n",
    "print(f\"Processed data: {result}\")"
   ]
  },
  {
   "cell_type": "markdown",
   "metadata": {},
   "source": [
    "## Block Monitoring\n",
    "\n",
    "Use `MonitoringBlock` as a context manager to track performance of code blocks."
   ]
  },
  {
   "cell_type": "code",
   "execution_count": null,
   "metadata": {},
   "outputs": [],
   "source": [
    "with MonitoringBlock(\"data_processing\"):\n",
    "    # Process multiple batches\n",
    "    batch1 = process_data(range(5))\n",
    "    batch2 = process_data(range(5, 10))\n",
    "    \n",
    "    print(f\"Processed batches: {batch1}, {batch2}\")"
   ]
  }
 ],
 "metadata": {
  "kernelspec": {
   "display_name": "Python 3",
   "language": "python",
   "name": "python3"
  },
  "language_info": {
   "codemirror_mode": {
    "name": "ipython",
    "version": 3
   },
   "file_extension": ".py",
   "mimetype": "text/x-python",
   "name": "python",
   "nbconvert_exporter": "python",
   "pygments_lexer": "ipython3",
   "version": "3.11"
  }
 },
 "nbformat": 4,
 "nbformat_minor": 4
}